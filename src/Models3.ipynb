{
  "nbformat": 4,
  "nbformat_minor": 0,
  "metadata": {
    "colab": {
      "provenance": [],
      "gpuType": "T4"
    },
    "kernelspec": {
      "name": "python3",
      "display_name": "Python 3"
    },
    "language_info": {
      "name": "python"
    },
    "accelerator": "GPU"
  },
  "cells": [
    {
      "cell_type": "code",
      "execution_count": 1,
      "metadata": {
        "colab": {
          "base_uri": "https://localhost:8080/"
        },
        "id": "mwAKoaEk3NzW",
        "outputId": "cfdffcd5-af5d-44e1-95a4-14d295e2ea28"
      },
      "outputs": [
        {
          "output_type": "stream",
          "name": "stdout",
          "text": [
            "Mounted at /content/drive\n"
          ]
        }
      ],
      "source": [
        "from google.colab import drive\n",
        "drive.mount('/content/drive')\n"
      ]
    },
    {
      "cell_type": "code",
      "source": [
        "import pandas as pd\n",
        "import numpy as np\n",
        "import matplotlib.pyplot as plt\n",
        "import seaborn as sns\n",
        "from sklearn.model_selection import train_test_split\n",
        "from sklearn.linear_model import LinearRegression\n",
        "from sklearn.metrics import mean_squared_error, r2_score\n",
        "from sklearn.preprocessing import StandardScaler\n",
        "from sklearn.neighbors import KNeighborsRegressor\n",
        "from sklearn.tree import DecisionTreeRegressor\n",
        "from sklearn.ensemble import RandomForestRegressor\n",
        "from sklearn.svm import SVR\n",
        "from sklearn.ensemble import GradientBoostingRegressor\n",
        "from sklearn.decomposition import PCA"
      ],
      "metadata": {
        "id": "InodsCSF4AJZ"
      },
      "execution_count": 2,
      "outputs": []
    },
    {
      "cell_type": "code",
      "source": [
        "df = pd.read_csv('/content/drive/MyDrive/BrainStation Capstone Data/checkpoint5.csv')"
      ],
      "metadata": {
        "id": "uO4fL6kv4szR"
      },
      "execution_count": 3,
      "outputs": []
    },
    {
      "cell_type": "code",
      "source": [
        "df = df.drop(columns='Unnamed: 0')"
      ],
      "metadata": {
        "id": "S8v5L37S7AR-"
      },
      "execution_count": 4,
      "outputs": []
    },
    {
      "cell_type": "code",
      "source": [
        "df.shape"
      ],
      "metadata": {
        "colab": {
          "base_uri": "https://localhost:8080/"
        },
        "id": "vYi62dPAt3xD",
        "outputId": "e2d5d774-abb0-4b3d-d4af-678968d7c60c"
      },
      "execution_count": 5,
      "outputs": [
        {
          "output_type": "execute_result",
          "data": {
            "text/plain": [
              "(4529592, 35)"
            ]
          },
          "metadata": {},
          "execution_count": 5
        }
      ]
    },
    {
      "cell_type": "code",
      "source": [
        "# Sample 20% of the dataframe\n",
        "df_sample = df.sample(frac=0.2, random_state=42)\n",
        "\n",
        "# Define features (X) and target (y)\n",
        "X = df_sample.drop('median_sale_price', axis=1)\n",
        "y = df_sample['median_sale_price']\n",
        "\n",
        "# Split data into training and testing sets\n",
        "X_train, X_test, y_train, y_test = train_test_split(X, y, test_size=0.2, random_state=42)\n",
        "\n",
        "# Scale the features using StandardScaler\n",
        "scaler = StandardScaler()\n",
        "X_train = scaler.fit_transform(X_train)\n",
        "X_test = scaler.transform(X_test)\n",
        "\n",
        "# Initialize and train the KNN regressor with 100 neighbors\n",
        "knn_regressor = KNeighborsRegressor(n_neighbors=100)\n",
        "knn_regressor.fit(X_train, y_train)\n",
        "\n",
        "# Make predictions on the test set\n",
        "y_pred = knn_regressor.predict(X_test)\n",
        "\n",
        "# Evaluate the model\n",
        "mse = mean_squared_error(y_test, y_pred)\n",
        "r2 = r2_score(y_test, y_pred)\n",
        "\n",
        "print(f\"Mean Squared Error: {mse}\")\n",
        "print(f\"R-squared: {r2}\")\n"
      ],
      "metadata": {
        "colab": {
          "base_uri": "https://localhost:8080/"
        },
        "id": "4-RCk7TXtz76",
        "outputId": "0cfeed70-083b-4bfd-9822-34e2896bda20"
      },
      "execution_count": 6,
      "outputs": [
        {
          "output_type": "stream",
          "name": "stdout",
          "text": [
            "Mean Squared Error: 6447105609.757742\n",
            "R-squared: 0.8364868401751612\n"
          ]
        }
      ]
    },
    {
      "cell_type": "code",
      "source": [
        "X = df.drop(columns='median_sale_price', axis=1)  # Predictor variables\n",
        "y = df['median_sale_price']  # Target variable\n",
        "\n",
        "# Split the data into training and testing sets (80% train, 20% test)\n",
        "X_train, X_test, y_train, y_test = train_test_split(X, y, test_size=0.2, random_state=42)\n",
        "\n",
        "\n",
        "# Scale features\n",
        "scaler = StandardScaler()\n",
        "X_train_scaled = scaler.fit_transform(X_train)\n",
        "X_test_scaled = scaler.transform(X_test)\n",
        "\n",
        "# Initialize and train the linear regression model\n",
        "lr_model = LinearRegression()\n",
        "lr_model.fit(X_train_scaled, y_train)\n",
        "\n",
        "# Predict homes sold using the test set\n",
        "y_pred_lr = lr_model.predict(X_test_scaled)\n",
        "\n",
        "# Evaluate the model\n",
        "mse_lr = mean_squared_error(y_test, y_pred_lr)\n",
        "r2_lr = r2_score(y_test, y_pred_lr)\n",
        "\n",
        "print(f'Linear Regression - MSE: {mse_lr}, R-squared: {r2_lr}')"
      ],
      "metadata": {
        "colab": {
          "base_uri": "https://localhost:8080/"
        },
        "id": "-HGqB4-949sV",
        "outputId": "9fc4f6f5-e6b7-45ee-c2de-341bd14d1145"
      },
      "execution_count": 7,
      "outputs": [
        {
          "output_type": "stream",
          "name": "stdout",
          "text": [
            "Linear Regression - MSE: 5983453454.910358, R-squared: 0.8477071927816605\n"
          ]
        }
      ]
    },
    {
      "cell_type": "code",
      "source": [
        "df.columns"
      ],
      "metadata": {
        "colab": {
          "base_uri": "https://localhost:8080/"
        },
        "id": "WSLpUVDL69d7",
        "outputId": "2f39298c-2041-4bc3-f080-a3b63a429137"
      },
      "execution_count": 8,
      "outputs": [
        {
          "output_type": "execute_result",
          "data": {
            "text/plain": [
              "Index(['median_sale_price', 'median_list_price', 'median_ppsf',\n",
              "       'median_list_ppsf', 'homes_sold', 'inventory', 'months_of_supply',\n",
              "       'median_dom', 'year', 'month', 'season', 'sale_to_list_ratio',\n",
              "       'price_growth', 'buyer_utility', 'pending_sales_ratio',\n",
              "       'sales_success_rate', 'inventory_turnover', 'adjusted_months_supply',\n",
              "       'political_stance_encoded', 'supply_to_list_ratio',\n",
              "       'property_type_All Residential',\n",
              "       'property_type_Single Family Residential', 'state_avg_sale_price',\n",
              "       'metro_region_inventory_change', 'inventory_to_pending_ratio',\n",
              "       'rolling_median_sale_price', 'rolling_median_list_price',\n",
              "       'price_momentum', 'supply_pressure', 'demand_pressure',\n",
              "       'price_elasticity', 'us_region_East North Central',\n",
              "       'us_region_Mid-Atlantic', 'us_region_Pacific',\n",
              "       'us_region_South Atlantic'],\n",
              "      dtype='object')"
            ]
          },
          "metadata": {},
          "execution_count": 8
        }
      ]
    },
    {
      "cell_type": "code",
      "source": [
        "# Get the coefficients from the model\n",
        "coefficients = lr_model.coef_\n",
        "\n",
        "# Create a DataFrame to display the feature names and their corresponding coefficients\n",
        "coeff_df = pd.DataFrame({\n",
        "    'Feature': df.drop(columns='median_sale_price', axis=1).columns,\n",
        "    'Coefficient': abs(coefficients)\n",
        "}).sort_values(by='Coefficient', ascending=False)\n",
        "\n",
        "# Display the absolute values of ech of the coefficients\n",
        "print(coeff_df)"
      ],
      "metadata": {
        "colab": {
          "base_uri": "https://localhost:8080/"
        },
        "id": "kDdXpLHo6I7P",
        "outputId": "afcfdf25-4884-4b3b-9ed5-80253d7c2116"
      },
      "execution_count": 12,
      "outputs": [
        {
          "output_type": "stream",
          "name": "stdout",
          "text": [
            "                                    Feature    Coefficient\n",
            "0                         median_list_price  129771.792293\n",
            "10                       sale_to_list_ratio   58836.077717\n",
            "24                rolling_median_sale_price   57459.279706\n",
            "25                rolling_median_list_price   42276.999903\n",
            "1                               median_ppsf   38027.563095\n",
            "21                     state_avg_sale_price    8887.494092\n",
            "20  property_type_Single Family Residential    7684.595938\n",
            "26                           price_momentum    6636.752198\n",
            "3                                homes_sold    6601.754369\n",
            "16                   adjusted_months_supply    6129.850824\n",
            "5                          months_of_supply    6034.040020\n",
            "19            property_type_All Residential    4989.257755\n",
            "4                                 inventory    4087.486311\n",
            "12                            buyer_utility    3711.318729\n",
            "13                      pending_sales_ratio    3552.555016\n",
            "11                             price_growth    3038.553681\n",
            "32                        us_region_Pacific    2770.916571\n",
            "31                   us_region_Mid-Atlantic    2262.490996\n",
            "30             us_region_East North Central    2250.050251\n",
            "18                     supply_to_list_ratio    2163.889072\n",
            "23               inventory_to_pending_ratio    2049.154602\n",
            "14                       sales_success_rate    2037.439975\n",
            "7                                      year    1916.861545\n",
            "17                 political_stance_encoded    1567.633814\n",
            "2                          median_list_ppsf    1011.706371\n",
            "27                          supply_pressure     866.584795\n",
            "8                                     month     610.615436\n",
            "15                       inventory_turnover     553.505389\n",
            "22            metro_region_inventory_change     219.713376\n",
            "33                 us_region_South Atlantic     146.640745\n",
            "29                         price_elasticity     146.014038\n",
            "28                          demand_pressure     141.909851\n",
            "6                                median_dom     138.032651\n",
            "9                                    season      86.643822\n"
          ]
        }
      ]
    },
    {
      "cell_type": "code",
      "source": [
        "# let's try to do the same as above but with fewer values to consider!\n",
        "# first, we are going to find the top 10 features by the values of their\n",
        "# coefficients in the linear regression model\n",
        "top10Features = coeff_df.loc[:,'Feature'][:10].values\n"
      ],
      "metadata": {
        "id": "4xZrlF4r6wYc"
      },
      "execution_count": 13,
      "outputs": []
    },
    {
      "cell_type": "code",
      "source": [
        "top10Features"
      ],
      "metadata": {
        "colab": {
          "base_uri": "https://localhost:8080/"
        },
        "id": "lmPnEVhl9W3W",
        "outputId": "a2824c1b-a27e-454a-8c59-5b3346db7e76"
      },
      "execution_count": 14,
      "outputs": [
        {
          "output_type": "execute_result",
          "data": {
            "text/plain": [
              "array(['median_list_price', 'sale_to_list_ratio',\n",
              "       'rolling_median_sale_price', 'rolling_median_list_price',\n",
              "       'median_ppsf', 'state_avg_sale_price',\n",
              "       'property_type_Single Family Residential', 'price_momentum',\n",
              "       'homes_sold', 'adjusted_months_supply'], dtype=object)"
            ]
          },
          "metadata": {},
          "execution_count": 14
        }
      ]
    },
    {
      "cell_type": "code",
      "source": [
        "# now proceeed to build a linear model with only these features\n",
        "X = df[top10Features]\n",
        "y = df['median_sale_price']\n",
        "X_train, X_test, y_train, y_test = train_test_split(X, y, test_size=0.2, random_state=42)\n",
        "\n",
        "\n",
        "scaler = StandardScaler()\n",
        "\n",
        "# Scale features\n",
        "scaler = StandardScaler()\n",
        "X_train_scaled = scaler.fit_transform(X_train)\n",
        "X_test_scaled = scaler.transform(X_test)\n",
        "\n",
        "# Initialize and train the linear regression model\n",
        "lr_model2 = LinearRegression()\n",
        "lr_model2.fit(X_train_scaled, y_train)\n",
        "\n",
        "# Predict homes sold using the test set\n",
        "y_pred_lr = lr_model2.predict(X_test_scaled)\n",
        "\n",
        "# Evaluate the model\n",
        "mse_lr = mean_squared_error(y_test, y_pred_lr)\n",
        "r2_lr = r2_score(y_test, y_pred_lr)\n",
        "\n",
        "print(f'Linear Regression - MSE: {mse_lr}, R-squared: {r2_lr}')"
      ],
      "metadata": {
        "colab": {
          "base_uri": "https://localhost:8080/"
        },
        "id": "DzzH1ona8NVc",
        "outputId": "48e9cc67-ef7c-4867-e432-fa4b39720f3d"
      },
      "execution_count": 15,
      "outputs": [
        {
          "output_type": "stream",
          "name": "stdout",
          "text": [
            "Linear Regression - MSE: 6067498918.158852, R-squared: 0.8455680402623784\n"
          ]
        }
      ]
    },
    {
      "cell_type": "code",
      "source": [
        "# Select features for PCA\n",
        "X_pca = df[top10Features]\n",
        "y_pca = df['median_sale_price']\n",
        "\n",
        "# Split data into training and testing sets\n",
        "X_train_pca, X_test_pca, y_train_pca, y_test_pca = train_test_split(X_pca, y_pca, test_size=0.2, random_state=42)\n",
        "\n",
        "# Scale features\n",
        "scaler_pca = StandardScaler()\n",
        "X_train_pca_scaled = scaler_pca.fit_transform(X_train_pca)\n",
        "X_test_pca_scaled = scaler_pca.transform(X_test_pca)\n",
        "\n",
        "# Apply PCA\n",
        "pca = PCA(n_components=0.9)  # Keep enough components to explain 95% of variance\n",
        "X_train_pca_reduced = pca.fit_transform(X_train_pca_scaled)\n",
        "X_test_pca_reduced = pca.transform(X_test_pca_scaled)\n",
        "\n",
        "# Initialize and train a linear regression model on the reduced data\n",
        "lr_model_pca = LinearRegression()\n",
        "lr_model_pca.fit(X_train_pca_reduced, y_train_pca)\n",
        "\n",
        "# Predict using the test set\n",
        "y_pred_pca = lr_model_pca.predict(X_test_pca_reduced)\n",
        "\n",
        "# Evaluate the model\n",
        "mse_pca = mean_squared_error(y_test_pca, y_pred_pca)\n",
        "r2_pca = r2_score(y_test_pca, y_pred_pca)\n",
        "\n",
        "print(f'PCA + Linear Regression - MSE: {mse_pca}, R-squared: {r2_pca}')\n"
      ],
      "metadata": {
        "colab": {
          "base_uri": "https://localhost:8080/"
        },
        "id": "Xtd8Z4E29Dga",
        "outputId": "25f126a7-37a2-41c7-9f7b-f61b1c6300d0"
      },
      "execution_count": 16,
      "outputs": [
        {
          "output_type": "stream",
          "name": "stdout",
          "text": [
            "PCA + Linear Regression - MSE: 10076534167.609993, R-squared: 0.743528768631521\n"
          ]
        }
      ]
    },
    {
      "cell_type": "code",
      "source": [
        "import tensorflow as tf\n",
        "from tensorflow import keras\n",
        "from tensorflow.keras import layers\n",
        "\n",
        "# Define the neural network model\n",
        "model = keras.Sequential([\n",
        "    layers.Dense(128, activation='relu', input_shape=(X_train_scaled.shape[1],)),\n",
        "    layers.Dense(64, activation='relu'),\n",
        "    layers.Dense(1)  # Output layer for regression\n",
        "])\n",
        "\n",
        "# Compile the model\n",
        "model.compile(optimizer='adam', loss='mse', metrics=['mae'])\n",
        "\n",
        "# Train the model\n",
        "history = model.fit(X_train_scaled, y_train, epochs=20, batch_size=100, validation_split=0.2)\n",
        "\n",
        "# Evaluate the model on the test set\n",
        "loss, mae = model.evaluate(X_test_scaled, y_test)\n",
        "print(f\"Test Loss: {loss}, Test MAE: {mae}\")\n",
        "\n",
        "# Make predictions on the test set\n",
        "y_pred_nn = model.predict(X_test_scaled)\n",
        "\n",
        "# Evaluate the model\n",
        "mse_nn = mean_squared_error(y_test, y_pred_nn)\n",
        "r2_nn = r2_score(y_test, y_pred_nn)\n",
        "\n",
        "print(f'Neural Network - MSE: {mse_nn}, R-squared: {r2_nn}')\n"
      ],
      "metadata": {
        "colab": {
          "base_uri": "https://localhost:8080/"
        },
        "id": "5b7jCsQH_GZT",
        "outputId": "f74dca77-da61-48d3-fc2f-926feb8d686a"
      },
      "execution_count": 17,
      "outputs": [
        {
          "output_type": "stream",
          "name": "stderr",
          "text": [
            "/usr/local/lib/python3.10/dist-packages/keras/src/layers/core/dense.py:87: UserWarning: Do not pass an `input_shape`/`input_dim` argument to a layer. When using Sequential models, prefer using an `Input(shape)` object as the first layer in the model instead.\n",
            "  super().__init__(activity_regularizer=activity_regularizer, **kwargs)\n"
          ]
        },
        {
          "output_type": "stream",
          "name": "stdout",
          "text": [
            "Epoch 1/20\n",
            "\u001b[1m28990/28990\u001b[0m \u001b[32m━━━━━━━━━━━━━━━━━━━━\u001b[0m\u001b[37m\u001b[0m \u001b[1m65s\u001b[0m 2ms/step - loss: 21837334528.0000 - mae: 85323.5781 - val_loss: 2645536512.0000 - val_mae: 26457.2773\n",
            "Epoch 2/20\n",
            "\u001b[1m28990/28990\u001b[0m \u001b[32m━━━━━━━━━━━━━━━━━━━━\u001b[0m\u001b[37m\u001b[0m \u001b[1m62s\u001b[0m 2ms/step - loss: 1968100224.0000 - mae: 21592.3984 - val_loss: 523016192.0000 - val_mae: 10137.8975\n",
            "Epoch 3/20\n",
            "\u001b[1m28990/28990\u001b[0m \u001b[32m━━━━━━━━━━━━━━━━━━━━\u001b[0m\u001b[37m\u001b[0m \u001b[1m62s\u001b[0m 2ms/step - loss: 376962080.0000 - mae: 8614.9639 - val_loss: 137542080.0000 - val_mae: 5481.6704\n",
            "Epoch 4/20\n",
            "\u001b[1m28990/28990\u001b[0m \u001b[32m━━━━━━━━━━━━━━━━━━━━\u001b[0m\u001b[37m\u001b[0m \u001b[1m61s\u001b[0m 2ms/step - loss: 108800248.0000 - mae: 4950.7192 - val_loss: 53772876.0000 - val_mae: 3665.4087\n",
            "Epoch 5/20\n",
            "\u001b[1m28990/28990\u001b[0m \u001b[32m━━━━━━━━━━━━━━━━━━━━\u001b[0m\u001b[37m\u001b[0m \u001b[1m82s\u001b[0m 2ms/step - loss: 46817944.0000 - mae: 3476.6111 - val_loss: 30183306.0000 - val_mae: 3038.8127\n",
            "Epoch 6/20\n",
            "\u001b[1m28990/28990\u001b[0m \u001b[32m━━━━━━━━━━━━━━━━━━━━\u001b[0m\u001b[37m\u001b[0m \u001b[1m82s\u001b[0m 2ms/step - loss: 28995588.0000 - mae: 2977.0449 - val_loss: 22332478.0000 - val_mae: 2762.3032\n",
            "Epoch 7/20\n",
            "\u001b[1m28990/28990\u001b[0m \u001b[32m━━━━━━━━━━━━━━━━━━━━\u001b[0m\u001b[37m\u001b[0m \u001b[1m81s\u001b[0m 2ms/step - loss: 21650156.0000 - mae: 2718.8059 - val_loss: 17762068.0000 - val_mae: 2598.1135\n",
            "Epoch 8/20\n",
            "\u001b[1m28990/28990\u001b[0m \u001b[32m━━━━━━━━━━━━━━━━━━━━\u001b[0m\u001b[37m\u001b[0m \u001b[1m82s\u001b[0m 2ms/step - loss: 17414588.0000 - mae: 2530.5283 - val_loss: 15055924.0000 - val_mae: 2393.6663\n",
            "Epoch 9/20\n",
            "\u001b[1m28990/28990\u001b[0m \u001b[32m━━━━━━━━━━━━━━━━━━━━\u001b[0m\u001b[37m\u001b[0m \u001b[1m60s\u001b[0m 2ms/step - loss: 14928163.0000 - mae: 2385.1770 - val_loss: 13811802.0000 - val_mae: 2236.2146\n",
            "Epoch 10/20\n",
            "\u001b[1m28990/28990\u001b[0m \u001b[32m━━━━━━━━━━━━━━━━━━━━\u001b[0m\u001b[37m\u001b[0m \u001b[1m82s\u001b[0m 2ms/step - loss: 13364592.0000 - mae: 2261.8167 - val_loss: 11619145.0000 - val_mae: 2103.1792\n",
            "Epoch 11/20\n",
            "\u001b[1m28990/28990\u001b[0m \u001b[32m━━━━━━━━━━━━━━━━━━━━\u001b[0m\u001b[37m\u001b[0m \u001b[1m61s\u001b[0m 2ms/step - loss: 11738326.0000 - mae: 2141.9395 - val_loss: 10421273.0000 - val_mae: 2057.8433\n",
            "Epoch 12/20\n",
            "\u001b[1m28990/28990\u001b[0m \u001b[32m━━━━━━━━━━━━━━━━━━━━\u001b[0m\u001b[37m\u001b[0m \u001b[1m82s\u001b[0m 2ms/step - loss: 10415908.0000 - mae: 2039.1886 - val_loss: 9938053.0000 - val_mae: 2087.7612\n",
            "Epoch 13/20\n",
            "\u001b[1m28990/28990\u001b[0m \u001b[32m━━━━━━━━━━━━━━━━━━━━\u001b[0m\u001b[37m\u001b[0m \u001b[1m62s\u001b[0m 2ms/step - loss: 9534973.0000 - mae: 1953.1847 - val_loss: 10198139.0000 - val_mae: 2132.1807\n",
            "Epoch 14/20\n",
            "\u001b[1m28990/28990\u001b[0m \u001b[32m━━━━━━━━━━━━━━━━━━━━\u001b[0m\u001b[37m\u001b[0m \u001b[1m81s\u001b[0m 2ms/step - loss: 8935595.0000 - mae: 1879.0753 - val_loss: 7887597.5000 - val_mae: 1766.5339\n",
            "Epoch 15/20\n",
            "\u001b[1m28990/28990\u001b[0m \u001b[32m━━━━━━━━━━━━━━━━━━━━\u001b[0m\u001b[37m\u001b[0m \u001b[1m83s\u001b[0m 2ms/step - loss: 8083807.0000 - mae: 1807.9711 - val_loss: 8440526.0000 - val_mae: 1734.6068\n",
            "Epoch 16/20\n",
            "\u001b[1m28990/28990\u001b[0m \u001b[32m━━━━━━━━━━━━━━━━━━━━\u001b[0m\u001b[37m\u001b[0m \u001b[1m60s\u001b[0m 2ms/step - loss: 7451410.5000 - mae: 1738.0441 - val_loss: 6789465.0000 - val_mae: 1673.3022\n",
            "Epoch 17/20\n",
            "\u001b[1m28990/28990\u001b[0m \u001b[32m━━━━━━━━━━━━━━━━━━━━\u001b[0m\u001b[37m\u001b[0m \u001b[1m61s\u001b[0m 2ms/step - loss: 7021096.0000 - mae: 1677.8302 - val_loss: 6318073.5000 - val_mae: 1580.4644\n",
            "Epoch 18/20\n",
            "\u001b[1m28990/28990\u001b[0m \u001b[32m━━━━━━━━━━━━━━━━━━━━\u001b[0m\u001b[37m\u001b[0m \u001b[1m60s\u001b[0m 2ms/step - loss: 6502912.5000 - mae: 1616.8103 - val_loss: 6472345.0000 - val_mae: 1571.3883\n",
            "Epoch 19/20\n",
            "\u001b[1m28990/28990\u001b[0m \u001b[32m━━━━━━━━━━━━━━━━━━━━\u001b[0m\u001b[37m\u001b[0m \u001b[1m82s\u001b[0m 2ms/step - loss: 6199981.5000 - mae: 1568.1492 - val_loss: 5648543.5000 - val_mae: 1483.1222\n",
            "Epoch 20/20\n",
            "\u001b[1m28990/28990\u001b[0m \u001b[32m━━━━━━━━━━━━━━━━━━━━\u001b[0m\u001b[37m\u001b[0m \u001b[1m60s\u001b[0m 2ms/step - loss: 5766726.5000 - mae: 1510.9391 - val_loss: 5894974.5000 - val_mae: 1557.9194\n",
            "\u001b[1m28310/28310\u001b[0m \u001b[32m━━━━━━━━━━━━━━━━━━━━\u001b[0m\u001b[37m\u001b[0m \u001b[1m43s\u001b[0m 2ms/step - loss: 5732617.5000 - mae: 1557.2371\n",
            "Test Loss: 5787735.0, Test MAE: 1559.294921875\n",
            "\u001b[1m28310/28310\u001b[0m \u001b[32m━━━━━━━━━━━━━━━━━━━━\u001b[0m\u001b[37m\u001b[0m \u001b[1m37s\u001b[0m 1ms/step\n",
            "Neural Network - MSE: 5787763.368686808, R-squared: 0.9998526879606275\n"
          ]
        }
      ]
    },
    {
      "cell_type": "code",
      "source": [
        "model.summary()"
      ],
      "metadata": {
        "id": "KOseG_a-l6v7",
        "colab": {
          "base_uri": "https://localhost:8080/",
          "height": 248
        },
        "outputId": "99e547f8-b3c1-4ac4-ee42-2a9e868c7ac6"
      },
      "execution_count": 19,
      "outputs": [
        {
          "output_type": "display_data",
          "data": {
            "text/plain": [
              "\u001b[1mModel: \"sequential\"\u001b[0m\n"
            ],
            "text/html": [
              "<pre style=\"white-space:pre;overflow-x:auto;line-height:normal;font-family:Menlo,'DejaVu Sans Mono',consolas,'Courier New',monospace\"><span style=\"font-weight: bold\">Model: \"sequential\"</span>\n",
              "</pre>\n"
            ]
          },
          "metadata": {}
        },
        {
          "output_type": "display_data",
          "data": {
            "text/plain": [
              "┏━━━━━━━━━━━━━━━━━━━━━━━━━━━━━━━━━━━━━━┳━━━━━━━━━━━━━━━━━━━━━━━━━━━━━┳━━━━━━━━━━━━━━━━━┓\n",
              "┃\u001b[1m \u001b[0m\u001b[1mLayer (type)                        \u001b[0m\u001b[1m \u001b[0m┃\u001b[1m \u001b[0m\u001b[1mOutput Shape               \u001b[0m\u001b[1m \u001b[0m┃\u001b[1m \u001b[0m\u001b[1m        Param #\u001b[0m\u001b[1m \u001b[0m┃\n",
              "┡━━━━━━━━━━━━━━━━━━━━━━━━━━━━━━━━━━━━━━╇━━━━━━━━━━━━━━━━━━━━━━━━━━━━━╇━━━━━━━━━━━━━━━━━┩\n",
              "│ dense (\u001b[38;5;33mDense\u001b[0m)                        │ (\u001b[38;5;45mNone\u001b[0m, \u001b[38;5;34m128\u001b[0m)                 │           \u001b[38;5;34m1,408\u001b[0m │\n",
              "├──────────────────────────────────────┼─────────────────────────────┼─────────────────┤\n",
              "│ dense_1 (\u001b[38;5;33mDense\u001b[0m)                      │ (\u001b[38;5;45mNone\u001b[0m, \u001b[38;5;34m64\u001b[0m)                  │           \u001b[38;5;34m8,256\u001b[0m │\n",
              "├──────────────────────────────────────┼─────────────────────────────┼─────────────────┤\n",
              "│ dense_2 (\u001b[38;5;33mDense\u001b[0m)                      │ (\u001b[38;5;45mNone\u001b[0m, \u001b[38;5;34m1\u001b[0m)                   │              \u001b[38;5;34m65\u001b[0m │\n",
              "└──────────────────────────────────────┴─────────────────────────────┴─────────────────┘\n"
            ],
            "text/html": [
              "<pre style=\"white-space:pre;overflow-x:auto;line-height:normal;font-family:Menlo,'DejaVu Sans Mono',consolas,'Courier New',monospace\">┏━━━━━━━━━━━━━━━━━━━━━━━━━━━━━━━━━━━━━━┳━━━━━━━━━━━━━━━━━━━━━━━━━━━━━┳━━━━━━━━━━━━━━━━━┓\n",
              "┃<span style=\"font-weight: bold\"> Layer (type)                         </span>┃<span style=\"font-weight: bold\"> Output Shape                </span>┃<span style=\"font-weight: bold\">         Param # </span>┃\n",
              "┡━━━━━━━━━━━━━━━━━━━━━━━━━━━━━━━━━━━━━━╇━━━━━━━━━━━━━━━━━━━━━━━━━━━━━╇━━━━━━━━━━━━━━━━━┩\n",
              "│ dense (<span style=\"color: #0087ff; text-decoration-color: #0087ff\">Dense</span>)                        │ (<span style=\"color: #00d7ff; text-decoration-color: #00d7ff\">None</span>, <span style=\"color: #00af00; text-decoration-color: #00af00\">128</span>)                 │           <span style=\"color: #00af00; text-decoration-color: #00af00\">1,408</span> │\n",
              "├──────────────────────────────────────┼─────────────────────────────┼─────────────────┤\n",
              "│ dense_1 (<span style=\"color: #0087ff; text-decoration-color: #0087ff\">Dense</span>)                      │ (<span style=\"color: #00d7ff; text-decoration-color: #00d7ff\">None</span>, <span style=\"color: #00af00; text-decoration-color: #00af00\">64</span>)                  │           <span style=\"color: #00af00; text-decoration-color: #00af00\">8,256</span> │\n",
              "├──────────────────────────────────────┼─────────────────────────────┼─────────────────┤\n",
              "│ dense_2 (<span style=\"color: #0087ff; text-decoration-color: #0087ff\">Dense</span>)                      │ (<span style=\"color: #00d7ff; text-decoration-color: #00d7ff\">None</span>, <span style=\"color: #00af00; text-decoration-color: #00af00\">1</span>)                   │              <span style=\"color: #00af00; text-decoration-color: #00af00\">65</span> │\n",
              "└──────────────────────────────────────┴─────────────────────────────┴─────────────────┘\n",
              "</pre>\n"
            ]
          },
          "metadata": {}
        },
        {
          "output_type": "display_data",
          "data": {
            "text/plain": [
              "\u001b[1m Total params: \u001b[0m\u001b[38;5;34m29,189\u001b[0m (114.02 KB)\n"
            ],
            "text/html": [
              "<pre style=\"white-space:pre;overflow-x:auto;line-height:normal;font-family:Menlo,'DejaVu Sans Mono',consolas,'Courier New',monospace\"><span style=\"font-weight: bold\"> Total params: </span><span style=\"color: #00af00; text-decoration-color: #00af00\">29,189</span> (114.02 KB)\n",
              "</pre>\n"
            ]
          },
          "metadata": {}
        },
        {
          "output_type": "display_data",
          "data": {
            "text/plain": [
              "\u001b[1m Trainable params: \u001b[0m\u001b[38;5;34m9,729\u001b[0m (38.00 KB)\n"
            ],
            "text/html": [
              "<pre style=\"white-space:pre;overflow-x:auto;line-height:normal;font-family:Menlo,'DejaVu Sans Mono',consolas,'Courier New',monospace\"><span style=\"font-weight: bold\"> Trainable params: </span><span style=\"color: #00af00; text-decoration-color: #00af00\">9,729</span> (38.00 KB)\n",
              "</pre>\n"
            ]
          },
          "metadata": {}
        },
        {
          "output_type": "display_data",
          "data": {
            "text/plain": [
              "\u001b[1m Non-trainable params: \u001b[0m\u001b[38;5;34m0\u001b[0m (0.00 B)\n"
            ],
            "text/html": [
              "<pre style=\"white-space:pre;overflow-x:auto;line-height:normal;font-family:Menlo,'DejaVu Sans Mono',consolas,'Courier New',monospace\"><span style=\"font-weight: bold\"> Non-trainable params: </span><span style=\"color: #00af00; text-decoration-color: #00af00\">0</span> (0.00 B)\n",
              "</pre>\n"
            ]
          },
          "metadata": {}
        },
        {
          "output_type": "display_data",
          "data": {
            "text/plain": [
              "\u001b[1m Optimizer params: \u001b[0m\u001b[38;5;34m19,460\u001b[0m (76.02 KB)\n"
            ],
            "text/html": [
              "<pre style=\"white-space:pre;overflow-x:auto;line-height:normal;font-family:Menlo,'DejaVu Sans Mono',consolas,'Courier New',monospace\"><span style=\"font-weight: bold\"> Optimizer params: </span><span style=\"color: #00af00; text-decoration-color: #00af00\">19,460</span> (76.02 KB)\n",
              "</pre>\n"
            ]
          },
          "metadata": {}
        }
      ]
    },
    {
      "cell_type": "code",
      "source": [],
      "metadata": {
        "id": "l81U0ygKnNr1"
      },
      "execution_count": null,
      "outputs": []
    }
  ]
}