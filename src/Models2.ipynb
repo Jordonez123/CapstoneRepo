{
  "nbformat": 4,
  "nbformat_minor": 0,
  "metadata": {
    "colab": {
      "provenance": [],
      "gpuType": "T4"
    },
    "kernelspec": {
      "name": "python3",
      "display_name": "Python 3"
    },
    "language_info": {
      "name": "python"
    },
    "accelerator": "GPU"
  },
  "cells": [
    {
      "cell_type": "code",
      "execution_count": null,
      "metadata": {
        "colab": {
          "base_uri": "https://localhost:8080/"
        },
        "id": "mwAKoaEk3NzW",
        "outputId": "6a3d97b2-5230-420d-8dbb-38f539340797"
      },
      "outputs": [
        {
          "output_type": "stream",
          "name": "stdout",
          "text": [
            "Drive already mounted at /content/drive; to attempt to forcibly remount, call drive.mount(\"/content/drive\", force_remount=True).\n"
          ]
        }
      ],
      "source": [
        "from google.colab import drive\n",
        "drive.mount('/content/drive')\n"
      ]
    },
    {
      "cell_type": "code",
      "source": [
        "import pandas as pd\n",
        "import numpy as np\n",
        "import matplotlib.pyplot as plt\n",
        "import seaborn as sns\n",
        "from sklearn.model_selection import train_test_split\n",
        "from sklearn.linear_model import LinearRegression\n",
        "from sklearn.metrics import mean_squared_error, r2_score\n",
        "from sklearn.preprocessing import StandardScaler\n",
        "from sklearn.neighbors import KNeighborsRegressor\n",
        "from sklearn.tree import DecisionTreeRegressor\n",
        "from sklearn.ensemble import RandomForestRegressor\n",
        "from sklearn.svm import SVR\n",
        "from sklearn.ensemble import GradientBoostingRegressor\n",
        "from sklearn.decomposition import PCA"
      ],
      "metadata": {
        "id": "InodsCSF4AJZ"
      },
      "execution_count": null,
      "outputs": []
    },
    {
      "cell_type": "code",
      "source": [
        "df = pd.read_csv('/content/drive/MyDrive/BrainStation Capstone Data/checkpoint5.csv')"
      ],
      "metadata": {
        "id": "uO4fL6kv4szR"
      },
      "execution_count": null,
      "outputs": []
    },
    {
      "cell_type": "code",
      "source": [
        "df = df.drop(columns='Unnamed: 0')"
      ],
      "metadata": {
        "id": "S8v5L37S7AR-"
      },
      "execution_count": null,
      "outputs": []
    },
    {
      "cell_type": "code",
      "source": [
        "df.shape"
      ],
      "metadata": {
        "colab": {
          "base_uri": "https://localhost:8080/"
        },
        "id": "vYi62dPAt3xD",
        "outputId": "6f2e8ff4-3b09-4390-ab1a-1c9dce39a741"
      },
      "execution_count": null,
      "outputs": [
        {
          "output_type": "execute_result",
          "data": {
            "text/plain": [
              "(4529592, 35)"
            ]
          },
          "metadata": {},
          "execution_count": 5
        }
      ]
    },
    {
      "cell_type": "code",
      "source": [
        "# Sample 20% of the dataframe\n",
        "df_sample = df.sample(frac=0.2, random_state=42)\n",
        "\n",
        "# Define features (X) and target (y)\n",
        "X = df_sample.drop('homes_sold', axis=1)\n",
        "y = df_sample['homes_sold']\n",
        "\n",
        "# Split data into training and testing sets\n",
        "X_train, X_test, y_train, y_test = train_test_split(X, y, test_size=0.2, random_state=42)\n",
        "\n",
        "# Scale the features using StandardScaler\n",
        "scaler = StandardScaler()\n",
        "X_train = scaler.fit_transform(X_train)\n",
        "X_test = scaler.transform(X_test)\n",
        "\n",
        "# Initialize and train the KNN regressor with 100 neighbors\n",
        "knn_regressor = KNeighborsRegressor(n_neighbors=100)\n",
        "knn_regressor.fit(X_train, y_train)\n",
        "\n",
        "# Make predictions on the test set\n",
        "y_pred = knn_regressor.predict(X_test)\n",
        "\n",
        "# Evaluate the model\n",
        "mse = mean_squared_error(y_test, y_pred)\n",
        "r2 = r2_score(y_test, y_pred)\n",
        "\n",
        "print(f\"Mean Squared Error: {mse}\")\n",
        "print(f\"R-squared: {r2}\")\n"
      ],
      "metadata": {
        "colab": {
          "base_uri": "https://localhost:8080/"
        },
        "id": "4-RCk7TXtz76",
        "outputId": "49c0c58e-25cd-4a69-e49d-5728cb41dcc3"
      },
      "execution_count": null,
      "outputs": [
        {
          "output_type": "stream",
          "name": "stdout",
          "text": [
            "Mean Squared Error: 68.37760001263169\n",
            "R-squared: 0.8350600550735247\n"
          ]
        }
      ]
    },
    {
      "cell_type": "code",
      "source": [
        "# Evaluate the model\n",
        "mse = mean_squared_error(y_test, np.round(y_pred))\n",
        "r2 = r2_score(y_test, np.round(y_pred))\n",
        "\n",
        "print(f\"Mean Squared Error: {mse}\")\n",
        "print(f\"R-squared: {r2}\")"
      ],
      "metadata": {
        "colab": {
          "base_uri": "https://localhost:8080/"
        },
        "id": "trT4f9T4x-x4",
        "outputId": "4758d8c2-0fac-4415-8490-01038b508934"
      },
      "execution_count": null,
      "outputs": [
        {
          "output_type": "stream",
          "name": "stdout",
          "text": [
            "Mean Squared Error: 68.44313085145164\n",
            "R-squared: 0.8349019820650547\n"
          ]
        }
      ]
    },
    {
      "cell_type": "code",
      "source": [
        "X = df.drop(columns='homes_sold', axis=1)  # Predictor variables\n",
        "y = df['homes_sold']  # Target variable\n",
        "\n",
        "# Split the data into training and testing sets (80% train, 20% test)\n",
        "X_train, X_test, y_train, y_test = train_test_split(X, y, test_size=0.2, random_state=42)\n",
        "\n",
        "\n",
        "# Scale features\n",
        "scaler = StandardScaler()\n",
        "X_train_scaled = scaler.fit_transform(X_train)\n",
        "X_test_scaled = scaler.transform(X_test)\n",
        "\n",
        "# Initialize and train the linear regression model\n",
        "lr_model = LinearRegression()\n",
        "lr_model.fit(X_train_scaled, y_train)\n",
        "\n",
        "# Predict homes sold using the test set\n",
        "y_pred_lr = lr_model.predict(X_test_scaled)\n",
        "\n",
        "# Evaluate the model\n",
        "mse_lr = mean_squared_error(y_test, y_pred_lr)\n",
        "r2_lr = r2_score(y_test, y_pred_lr)\n",
        "\n",
        "print(f'Linear Regression - MSE: {mse_lr}, R-squared: {r2_lr}')"
      ],
      "metadata": {
        "colab": {
          "base_uri": "https://localhost:8080/"
        },
        "id": "-HGqB4-949sV",
        "outputId": "c8f08044-748f-4a0f-e943-bbc6fa9ea385"
      },
      "execution_count": null,
      "outputs": [
        {
          "output_type": "stream",
          "name": "stdout",
          "text": [
            "Linear Regression - MSE: 96.38731356139502, R-squared: 0.765715423767509\n"
          ]
        }
      ]
    },
    {
      "cell_type": "code",
      "source": [
        "df.columns"
      ],
      "metadata": {
        "colab": {
          "base_uri": "https://localhost:8080/"
        },
        "id": "WSLpUVDL69d7",
        "outputId": "fa5a2264-db15-4fdf-c6cc-28726ea96a31"
      },
      "execution_count": null,
      "outputs": [
        {
          "output_type": "execute_result",
          "data": {
            "text/plain": [
              "Index(['median_sale_price', 'median_list_price', 'median_ppsf',\n",
              "       'median_list_ppsf', 'homes_sold', 'inventory', 'months_of_supply',\n",
              "       'median_dom', 'year', 'month', 'season', 'sale_to_list_ratio',\n",
              "       'price_growth', 'buyer_utility', 'pending_sales_ratio',\n",
              "       'sales_success_rate', 'inventory_turnover', 'adjusted_months_supply',\n",
              "       'political_stance_encoded', 'supply_to_list_ratio',\n",
              "       'property_type_All Residential',\n",
              "       'property_type_Single Family Residential', 'state_avg_sale_price',\n",
              "       'metro_region_inventory_change', 'inventory_to_pending_ratio',\n",
              "       'rolling_median_sale_price', 'rolling_median_list_price',\n",
              "       'price_momentum', 'supply_pressure', 'demand_pressure',\n",
              "       'price_elasticity', 'us_region_East North Central',\n",
              "       'us_region_Mid-Atlantic', 'us_region_Pacific',\n",
              "       'us_region_South Atlantic'],\n",
              "      dtype='object')"
            ]
          },
          "metadata": {},
          "execution_count": 8
        }
      ]
    },
    {
      "cell_type": "code",
      "source": [
        "# Get the coefficients from the model\n",
        "coefficients = lr_model.coef_\n",
        "\n",
        "# Create a DataFrame to display the feature names and their corresponding coefficients\n",
        "coeff_df = pd.DataFrame({\n",
        "    'Feature': df.drop(columns='homes_sold', axis=1).columns,\n",
        "    'Coefficient': abs(coefficients)\n",
        "}).sort_values(by='Coefficient', ascending=False)\n",
        "\n",
        "# Display the absolute values of ech of the coefficients\n",
        "print(coeff_df)"
      ],
      "metadata": {
        "colab": {
          "base_uri": "https://localhost:8080/"
        },
        "id": "kDdXpLHo6I7P",
        "outputId": "69320285-88b4-44cb-9eb0-fe231770f9bc"
      },
      "execution_count": null,
      "outputs": [
        {
          "output_type": "stream",
          "name": "stdout",
          "text": [
            "                                    Feature  Coefficient\n",
            "4                                 inventory    17.459474\n",
            "5                          months_of_supply     5.407114\n",
            "16                   adjusted_months_supply     4.139095\n",
            "27                          supply_pressure     2.086777\n",
            "15                       inventory_turnover     1.819811\n",
            "19            property_type_All Residential     1.643711\n",
            "18                     supply_to_list_ratio     1.559014\n",
            "20  property_type_Single Family Residential     1.404602\n",
            "22            metro_region_inventory_change     1.347591\n",
            "23               inventory_to_pending_ratio     1.271722\n",
            "14                       sales_success_rate     1.144753\n",
            "0                         median_sale_price     1.033690\n",
            "13                      pending_sales_ratio     0.671117\n",
            "1                         median_list_price     0.661901\n",
            "28                          demand_pressure     0.577537\n",
            "21                     state_avg_sale_price     0.544368\n",
            "31                   us_region_Mid-Atlantic     0.482991\n",
            "6                                median_dom     0.438148\n",
            "10                       sale_to_list_ratio     0.434734\n",
            "8                                     month     0.205751\n",
            "17                 political_stance_encoded     0.196168\n",
            "7                                      year     0.162950\n",
            "32                        us_region_Pacific     0.146631\n",
            "30             us_region_East North Central     0.129023\n",
            "25                rolling_median_list_price     0.052214\n",
            "3                          median_list_ppsf     0.050795\n",
            "12                            buyer_utility     0.043127\n",
            "11                             price_growth     0.035350\n",
            "33                 us_region_South Atlantic     0.015719\n",
            "2                               median_ppsf     0.010463\n",
            "29                         price_elasticity     0.007854\n",
            "9                                    season     0.004974\n",
            "24                rolling_median_sale_price     0.004043\n",
            "26                           price_momentum     0.002213\n"
          ]
        }
      ]
    },
    {
      "cell_type": "code",
      "source": [
        "# let's try to do the same as above but with fewer values to consider!\n",
        "# first, we are going to find the top 10 features by the values of their\n",
        "# coefficients in the linear regression model\n",
        "top10Features = coeff_df.loc[:,'Feature'][:10].values\n"
      ],
      "metadata": {
        "id": "4xZrlF4r6wYc"
      },
      "execution_count": null,
      "outputs": []
    },
    {
      "cell_type": "code",
      "source": [
        "top10Features"
      ],
      "metadata": {
        "colab": {
          "base_uri": "https://localhost:8080/"
        },
        "id": "lmPnEVhl9W3W",
        "outputId": "f817363a-a516-41f3-ce4f-00d0ed2b468b"
      },
      "execution_count": null,
      "outputs": [
        {
          "output_type": "execute_result",
          "data": {
            "text/plain": [
              "array(['inventory', 'months_of_supply', 'adjusted_months_supply',\n",
              "       'supply_pressure', 'inventory_turnover',\n",
              "       'property_type_All Residential', 'supply_to_list_ratio',\n",
              "       'property_type_Single Family Residential',\n",
              "       'metro_region_inventory_change', 'inventory_to_pending_ratio'],\n",
              "      dtype=object)"
            ]
          },
          "metadata": {},
          "execution_count": 25
        }
      ]
    },
    {
      "cell_type": "code",
      "source": [
        "# now proceeed to build a linear model with only these features\n",
        "X = df[top10Features]\n",
        "y = df['homes_sold']\n",
        "X_train, X_test, y_train, y_test = train_test_split(X, y, test_size=0.2, random_state=42)\n",
        "\n",
        "\n",
        "scaler = StandardScaler()\n",
        "\n",
        "# Scale features\n",
        "scaler = StandardScaler()\n",
        "X_train_scaled = scaler.fit_transform(X_train)\n",
        "X_test_scaled = scaler.transform(X_test)\n",
        "\n",
        "# Initialize and train the linear regression model\n",
        "lr_model2 = LinearRegression()\n",
        "lr_model2.fit(X_train_scaled, y_train)\n",
        "\n",
        "# Predict homes sold using the test set\n",
        "y_pred_lr = lr_model2.predict(X_test_scaled)\n",
        "\n",
        "# Evaluate the model\n",
        "mse_lr = mean_squared_error(y_test, y_pred_lr)\n",
        "r2_lr = r2_score(y_test, y_pred_lr)\n",
        "\n",
        "print(f'Linear Regression - MSE: {mse_lr}, R-squared: {r2_lr}')"
      ],
      "metadata": {
        "colab": {
          "base_uri": "https://localhost:8080/"
        },
        "id": "DzzH1ona8NVc",
        "outputId": "8e28c412-6ede-4de9-f280-fe29087543b9"
      },
      "execution_count": null,
      "outputs": [
        {
          "output_type": "stream",
          "name": "stdout",
          "text": [
            "Linear Regression - MSE: 99.4170813961846, R-squared: 0.7583510949255771\n"
          ]
        }
      ]
    },
    {
      "cell_type": "code",
      "source": [
        "# Select features for PCA\n",
        "X_pca = df[top10Features]\n",
        "y_pca = df['homes_sold']\n",
        "\n",
        "# Split data into training and testing sets\n",
        "X_train_pca, X_test_pca, y_train_pca, y_test_pca = train_test_split(X_pca, y_pca, test_size=0.2, random_state=42)\n",
        "\n",
        "# Scale features\n",
        "scaler_pca = StandardScaler()\n",
        "X_train_pca_scaled = scaler_pca.fit_transform(X_train_pca)\n",
        "X_test_pca_scaled = scaler_pca.transform(X_test_pca)\n",
        "\n",
        "# Apply PCA\n",
        "pca = PCA(n_components=0.9)  # Keep enough components to explain 95% of variance\n",
        "X_train_pca_reduced = pca.fit_transform(X_train_pca_scaled)\n",
        "X_test_pca_reduced = pca.transform(X_test_pca_scaled)\n",
        "\n",
        "# Initialize and train a linear regression model on the reduced data\n",
        "lr_model_pca = LinearRegression()\n",
        "lr_model_pca.fit(X_train_pca_reduced, y_train_pca)\n",
        "\n",
        "# Predict using the test set\n",
        "y_pred_pca = lr_model_pca.predict(X_test_pca_reduced)\n",
        "\n",
        "# Evaluate the model\n",
        "mse_pca = mean_squared_error(y_test_pca, y_pred_pca)\n",
        "r2_pca = r2_score(y_test_pca, y_pred_pca)\n",
        "\n",
        "print(f'PCA + Linear Regression - MSE: {mse_pca}, R-squared: {r2_pca}')\n"
      ],
      "metadata": {
        "colab": {
          "base_uri": "https://localhost:8080/"
        },
        "id": "Xtd8Z4E29Dga",
        "outputId": "553d212d-03f1-473a-c6c9-715771f53569"
      },
      "execution_count": null,
      "outputs": [
        {
          "output_type": "stream",
          "name": "stdout",
          "text": [
            "PCA + Linear Regression - MSE: 115.69286417946645, R-squared: 0.7187902364335057\n"
          ]
        }
      ]
    },
    {
      "cell_type": "code",
      "source": [
        "import tensorflow as tf\n",
        "from tensorflow import keras\n",
        "from tensorflow.keras import layers\n",
        "\n",
        "# Define the neural network model\n",
        "model = keras.Sequential([\n",
        "    layers.Dense(128, activation='relu', input_shape=(X_train_scaled.shape[1],)),\n",
        "    layers.Dense(64, activation='relu'),\n",
        "    layers.Dense(1)  # Output layer for regression\n",
        "])\n",
        "\n",
        "# Compile the model\n",
        "model.compile(optimizer='adam', loss='mse', metrics=['mae'])\n",
        "\n",
        "# Train the model\n",
        "history = model.fit(X_train_scaled, y_train, epochs=20, batch_size=100, validation_split=0.2)\n",
        "\n",
        "# Evaluate the model on the test set\n",
        "loss, mae = model.evaluate(X_test_scaled, y_test)\n",
        "print(f\"Test Loss: {loss}, Test MAE: {mae}\")\n",
        "\n",
        "# Make predictions on the test set\n",
        "y_pred_nn = model.predict(X_test_scaled)\n",
        "\n",
        "# Evaluate the model\n",
        "mse_nn = mean_squared_error(y_test, y_pred_nn)\n",
        "r2_nn = r2_score(y_test, y_pred_nn)\n",
        "\n",
        "print(f'Neural Network - MSE: {mse_nn}, R-squared: {r2_nn}')\n"
      ],
      "metadata": {
        "colab": {
          "base_uri": "https://localhost:8080/"
        },
        "id": "5b7jCsQH_GZT",
        "outputId": "a209b22f-e9a0-4936-c83e-f0e6d16e6026"
      },
      "execution_count": null,
      "outputs": [
        {
          "output_type": "stream",
          "name": "stderr",
          "text": [
            "/usr/local/lib/python3.10/dist-packages/keras/src/layers/core/dense.py:87: UserWarning: Do not pass an `input_shape`/`input_dim` argument to a layer. When using Sequential models, prefer using an `Input(shape)` object as the first layer in the model instead.\n",
            "  super().__init__(activity_regularizer=activity_regularizer, **kwargs)\n"
          ]
        },
        {
          "output_type": "stream",
          "name": "stdout",
          "text": [
            "Epoch 1/20\n",
            "\u001b[1m28990/28990\u001b[0m \u001b[32m━━━━━━━━━━━━━━━━━━━━\u001b[0m\u001b[37m\u001b[0m \u001b[1m70s\u001b[0m 2ms/step - loss: 13.2251 - mae: 0.8562 - val_loss: 0.2262 - val_mae: 0.2967\n",
            "Epoch 2/20\n",
            "\u001b[1m28990/28990\u001b[0m \u001b[32m━━━━━━━━━━━━━━━━━━━━\u001b[0m\u001b[37m\u001b[0m \u001b[1m69s\u001b[0m 2ms/step - loss: 0.0853 - mae: 0.1642 - val_loss: 0.0489 - val_mae: 0.1195\n",
            "Epoch 3/20\n",
            "\u001b[1m28990/28990\u001b[0m \u001b[32m━━━━━━━━━━━━━━━━━━━━\u001b[0m\u001b[37m\u001b[0m \u001b[1m79s\u001b[0m 2ms/step - loss: 0.0667 - mae: 0.1408 - val_loss: 0.0345 - val_mae: 0.1097\n",
            "Epoch 4/20\n",
            "\u001b[1m28990/28990\u001b[0m \u001b[32m━━━━━━━━━━━━━━━━━━━━\u001b[0m\u001b[37m\u001b[0m \u001b[1m67s\u001b[0m 2ms/step - loss: 0.0518 - mae: 0.1237 - val_loss: 0.1647 - val_mae: 0.2868\n",
            "Epoch 5/20\n",
            "\u001b[1m28990/28990\u001b[0m \u001b[32m━━━━━━━━━━━━━━━━━━━━\u001b[0m\u001b[37m\u001b[0m \u001b[1m66s\u001b[0m 2ms/step - loss: 0.0475 - mae: 0.1149 - val_loss: 0.0229 - val_mae: 0.0898\n",
            "Epoch 6/20\n",
            "\u001b[1m28990/28990\u001b[0m \u001b[32m━━━━━━━━━━━━━━━━━━━━\u001b[0m\u001b[37m\u001b[0m \u001b[1m84s\u001b[0m 2ms/step - loss: 0.0408 - mae: 0.1075 - val_loss: 0.0187 - val_mae: 0.0861\n",
            "Epoch 7/20\n",
            "\u001b[1m28990/28990\u001b[0m \u001b[32m━━━━━━━━━━━━━━━━━━━━\u001b[0m\u001b[37m\u001b[0m \u001b[1m67s\u001b[0m 2ms/step - loss: 0.0392 - mae: 0.1019 - val_loss: 0.0854 - val_mae: 0.1813\n",
            "Epoch 8/20\n",
            "\u001b[1m28990/28990\u001b[0m \u001b[32m━━━━━━━━━━━━━━━━━━━━\u001b[0m\u001b[37m\u001b[0m \u001b[1m91s\u001b[0m 3ms/step - loss: 0.0334 - mae: 0.0963 - val_loss: 0.0192 - val_mae: 0.0813\n",
            "Epoch 9/20\n",
            "\u001b[1m28990/28990\u001b[0m \u001b[32m━━━━━━━━━━━━━━━━━━━━\u001b[0m\u001b[37m\u001b[0m \u001b[1m66s\u001b[0m 2ms/step - loss: 0.0303 - mae: 0.0914 - val_loss: 0.0389 - val_mae: 0.1276\n",
            "Epoch 10/20\n",
            "\u001b[1m28990/28990\u001b[0m \u001b[32m━━━━━━━━━━━━━━━━━━━━\u001b[0m\u001b[37m\u001b[0m \u001b[1m92s\u001b[0m 3ms/step - loss: 0.0313 - mae: 0.0899 - val_loss: 0.0090 - val_mae: 0.0529\n",
            "Epoch 11/20\n",
            "\u001b[1m28990/28990\u001b[0m \u001b[32m━━━━━━━━━━━━━━━━━━━━\u001b[0m\u001b[37m\u001b[0m \u001b[1m63s\u001b[0m 2ms/step - loss: 0.0268 - mae: 0.0849 - val_loss: 0.0108 - val_mae: 0.0557\n",
            "Epoch 12/20\n",
            "\u001b[1m28990/28990\u001b[0m \u001b[32m━━━━━━━━━━━━━━━━━━━━\u001b[0m\u001b[37m\u001b[0m \u001b[1m80s\u001b[0m 2ms/step - loss: 0.0261 - mae: 0.0807 - val_loss: 0.0465 - val_mae: 0.1240\n",
            "Epoch 13/20\n",
            "\u001b[1m28990/28990\u001b[0m \u001b[32m━━━━━━━━━━━━━━━━━━━━\u001b[0m\u001b[37m\u001b[0m \u001b[1m82s\u001b[0m 2ms/step - loss: 0.0242 - mae: 0.0797 - val_loss: 0.0178 - val_mae: 0.0782\n",
            "Epoch 14/20\n",
            "\u001b[1m28990/28990\u001b[0m \u001b[32m━━━━━━━━━━━━━━━━━━━━\u001b[0m\u001b[37m\u001b[0m \u001b[1m83s\u001b[0m 2ms/step - loss: 0.0216 - mae: 0.0751 - val_loss: 0.0679 - val_mae: 0.1118\n",
            "Epoch 15/20\n",
            "\u001b[1m28990/28990\u001b[0m \u001b[32m━━━━━━━━━━━━━━━━━━━━\u001b[0m\u001b[37m\u001b[0m \u001b[1m82s\u001b[0m 2ms/step - loss: 0.0221 - mae: 0.0756 - val_loss: 0.0099 - val_mae: 0.0547\n",
            "Epoch 16/20\n",
            "\u001b[1m28990/28990\u001b[0m \u001b[32m━━━━━━━━━━━━━━━━━━━━\u001b[0m\u001b[37m\u001b[0m \u001b[1m80s\u001b[0m 2ms/step - loss: 0.0204 - mae: 0.0729 - val_loss: 0.0143 - val_mae: 0.0624\n",
            "Epoch 17/20\n",
            "\u001b[1m28990/28990\u001b[0m \u001b[32m━━━━━━━━━━━━━━━━━━━━\u001b[0m\u001b[37m\u001b[0m \u001b[1m81s\u001b[0m 2ms/step - loss: 0.0216 - mae: 0.0730 - val_loss: 0.0143 - val_mae: 0.0744\n",
            "Epoch 18/20\n",
            "\u001b[1m28990/28990\u001b[0m \u001b[32m━━━━━━━━━━━━━━━━━━━━\u001b[0m\u001b[37m\u001b[0m \u001b[1m84s\u001b[0m 2ms/step - loss: 0.0227 - mae: 0.0708 - val_loss: 0.0157 - val_mae: 0.0599\n",
            "Epoch 19/20\n",
            "\u001b[1m28990/28990\u001b[0m \u001b[32m━━━━━━━━━━━━━━━━━━━━\u001b[0m\u001b[37m\u001b[0m \u001b[1m61s\u001b[0m 2ms/step - loss: 0.0194 - mae: 0.0688 - val_loss: 0.0144 - val_mae: 0.0695\n",
            "Epoch 20/20\n",
            "\u001b[1m28990/28990\u001b[0m \u001b[32m━━━━━━━━━━━━━━━━━━━━\u001b[0m\u001b[37m\u001b[0m \u001b[1m92s\u001b[0m 2ms/step - loss: 0.0178 - mae: 0.0669 - val_loss: 0.0193 - val_mae: 0.0747\n",
            "\u001b[1m28310/28310\u001b[0m \u001b[32m━━━━━━━━━━━━━━━━━━━━\u001b[0m\u001b[37m\u001b[0m \u001b[1m44s\u001b[0m 2ms/step - loss: 0.0196 - mae: 0.0746\n",
            "Test Loss: 0.019770396873354912, Test MAE: 0.07478245347738266\n",
            "\u001b[1m28310/28310\u001b[0m \u001b[32m━━━━━━━━━━━━━━━━━━━━\u001b[0m\u001b[37m\u001b[0m \u001b[1m36s\u001b[0m 1ms/step\n",
            "Neural Network - MSE: 0.019770438817963424, R-squared: 0.9999519448285334\n"
          ]
        }
      ]
    },
    {
      "cell_type": "code",
      "source": [],
      "metadata": {
        "id": "KOseG_a-l6v7"
      },
      "execution_count": null,
      "outputs": []
    }
  ]
}